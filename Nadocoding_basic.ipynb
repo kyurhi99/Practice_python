{
  "nbformat": 4,
  "nbformat_minor": 0,
  "metadata": {
    "colab": {
      "provenance": [],
      "authorship_tag": "ABX9TyPCAtDBpBno8g4+9Jme8+r8",
      "include_colab_link": true
    },
    "kernelspec": {
      "name": "python3",
      "display_name": "Python 3"
    },
    "language_info": {
      "name": "python"
    }
  },
  "cells": [
    {
      "cell_type": "markdown",
      "metadata": {
        "id": "view-in-github",
        "colab_type": "text"
      },
      "source": [
        "<a href=\"https://colab.research.google.com/github/kyurhi99/Practice_python/blob/main/Nadocoding_basic.ipynb\" target=\"_parent\"><img src=\"https://colab.research.google.com/assets/colab-badge.svg\" alt=\"Open In Colab\"/></a>"
      ]
    },
    {
      "cell_type": "markdown",
      "source": [
        "1. 자료형/변수"
      ],
      "metadata": {
        "id": "3jqDB70s3dVq"
      }
    },
    {
      "cell_type": "code",
      "source": [
        "# 변수\n",
        "name = \"puss\"\n",
        "animal = \"cat\"\n",
        "age = 4\n",
        "hobby = \"walking\"\n",
        "is_adult = age >= 3\n",
        "\n",
        "# 파이썬에서는 문자열을 합칠 때 +기호를 사용한다\n",
        "print(\"우리집 \"+ animal +\"의 이름은 \"+ name +\"이에요 \")\n",
        "print(name + \"는 \" + str(age) + \"살이며, \" + hobby + \"을 아주 좋아해요\") # 정수형은 +를 포함한 print문에서 쓰이려면 str을 이용해 문자형으로 바꿔준다\n",
        "print(name + \"는 어른일까요?\" + str(is_adult)) # Boolean도 str을 이용해 문자형으로 바꿔준다\n",
        "\n",
        "# + 대신 ,를 쓰는 경우 str을 쓸 필요가 없다\n",
        "# comma는 띄어쓰기를 하나씩 포함함\n",
        "print(name,\"는\", age,\"살이며,\", hobby,\"을 아주 좋아해요\" )"
      ],
      "metadata": {
        "id": "jDPSaJsxJn8x"
      },
      "execution_count": null,
      "outputs": []
    },
    {
      "cell_type": "markdown",
      "source": [
        "2. 연산자"
      ],
      "metadata": {
        "id": "8zt7WGq1LrVu"
      }
    },
    {
      "cell_type": "code",
      "source": [
        "print(2**3) # 2^3\n",
        "print(5%3) # 나머지 구하기\n",
        "print (5//3) # 몫 구하기\n",
        "\n",
        "print(10>=7) # True\n",
        "print(3 == 3) # equal\n",
        "print(1 != 3) # not equal\n",
        "\n",
        "print(not (1!=3)) # True의 not = False\n",
        "\n",
        "print((3>0) and (3<5)) # 두 조건 모두 만족해야 True\n",
        "print((3>0) & (3<5))\n",
        "\n",
        "print((3>0) or (3<5)) # 두 조건 중 하나 맞으면 True\n",
        "print((3>0) | (3<5))"
      ],
      "metadata": {
        "id": "3i58QBi-Ar8T"
      },
      "execution_count": null,
      "outputs": []
    },
    {
      "cell_type": "code",
      "source": [
        "# 간단한 수식\n",
        "number = 2+3*4\n",
        "number += 2 # number = number +2\n",
        "number *= 2\n",
        "number /= 2\n",
        "print(number)\n",
        "\n",
        "number %=2\n",
        "print(number)"
      ],
      "metadata": {
        "id": "_PugF44rCAEb"
      },
      "execution_count": null,
      "outputs": []
    },
    {
      "cell_type": "code",
      "source": [
        "# 숫자 처리 함수\n",
        "print(abs(-5)) # 절댓값\n",
        "print(pow(4,2)) # 4^2\n",
        "print(max(5,12)) # 최댓값\n",
        "print(min(5,12)) # 최솟값\n",
        "print(round(3.14)) # 반올림"
      ],
      "metadata": {
        "id": "waFZ6g6pCs7l"
      },
      "execution_count": null,
      "outputs": []
    },
    {
      "cell_type": "code",
      "source": [
        "# math library를 이용\n",
        "from math import * \n",
        "# math library 안에 있는 모든 것을 이용하겠다다"
      ],
      "metadata": {
        "id": "2_wNCVpVDC-O"
      },
      "execution_count": null,
      "outputs": []
    },
    {
      "cell_type": "code",
      "source": [
        "# 랜덤 함수\n",
        "from random import *\n",
        "\n",
        "print(random()) # 0.0이상 1.0미만의 임의의 값 생성\n",
        "print(random()*10) # 0.0이상 10.0미만의 임의의 값 생성\n",
        "print(int(random())) # 정수값으로 출력\n",
        "\n",
        "# 로또 값 출력(1~45)\n",
        "# print(int(random()*45)+1)\n",
        "print(randrange(1, 46)) # 1부터 45까지 임의의 값 생성성\n",
        "# print(randit(1,45)) 와 같은 결과과"
      ],
      "metadata": {
        "id": "RDVgj2pjDYRX"
      },
      "execution_count": null,
      "outputs": []
    },
    {
      "cell_type": "markdown",
      "source": [
        "3. 문자열"
      ],
      "metadata": {
        "id": "uhIZbfvXEcr5"
      }
    },
    {
      "cell_type": "code",
      "source": [
        "sentence = '나는 소녀'\n",
        "sentence2 = \"파이썬 잘하고싶다\"\n",
        "sentence3 = \"\"\"\n",
        "나는 소녀녀이고, \n",
        "파이썬은 쉬워요\n",
        "\"\"\"\n",
        "# 줄바꿈 포함해서 찍힘\n",
        "print(sentence)\n",
        "print(sentence2)\n",
        "print(sentence3)"
      ],
      "metadata": {
        "id": "xWyhWv3DEyiS"
      },
      "execution_count": null,
      "outputs": []
    },
    {
      "cell_type": "code",
      "source": [
        "# 슬라이싱\n",
        "# 필요한 정보만 자르기\n",
        "# 대괄호로 쓰고 위치를 알려준다. 이때 파이썬은 index가 0에서부터 시작\n",
        "jumin = \"990120-1234567\"\n",
        "print(\"성별: \" + jumin[7])\n",
        "print(\"연: \" + jumin[0:2]) # 끝 자리는 실제 자리 수보다 한 자리 수 더 크게 적는다\n",
        "print(\"생년월일: \" + jumin[:6]) # 콜론으로 시작하면 처음부터 시작\n",
        "print(\"뒤 7자리: \" + jumin[7:]) # 콜론으로 끝나면 끝까지 정보를 가져온다\n",
        "print(\"뒤 7자리 (뒤에부터)\" + jumin[-7:]) # 맨 뒤자리는 -1번째이다"
      ],
      "metadata": {
        "id": "eCEU5syVF91U"
      },
      "execution_count": null,
      "outputs": []
    },
    {
      "cell_type": "code",
      "source": [
        "# 문자열 처리 함수\n",
        "python = \"Python is Amazing\"\n",
        "\n",
        "# 소문자로 처리\n",
        "print(python.lower())\n",
        "# 대문자로 처리\n",
        "print(python.upper())\n",
        "# 첫 번째 값이 대문자인가?\n",
        "print(python[0].isupper())\n",
        "\n",
        "# 길이 반환\n",
        "print(len(python))\n",
        "\n",
        "# 다른 문자로 변경\n",
        "print(python.replace(\"Python\", \"R\"))\n",
        "\n",
        "# 문자의 위치 확인\n",
        "index = python.index(\"n\")\n",
        "print(index) # n이 몇 번째 위치에 있는지\n",
        "# index = python.index(\"n\", 5) 뒤에 5는 starting point. 5번째 위치에서부터 위치 확인\n",
        "print(python.find(\"n\"))\n",
        "print(python.find(\"Java\")) # 없는 글자를 찾을 때 index를 쓰면 오류가 나고 find를 찾으면 -1이 뜬다"
      ],
      "metadata": {
        "id": "sqKnCag2HYZ9"
      },
      "execution_count": null,
      "outputs": []
    },
    {
      "cell_type": "code",
      "source": [
        "# 문자열 포맷\n",
        "print(\"a\", \"b\")\n",
        "print(\"a\" + \"b\")\n",
        "\n",
        "# 방법 1\n",
        "print(\"나는 %d살입니다\" %20) # %뒤에 있는 값을 문장 속 %뒤에 넣는다. 이때 d는 정수를 의미. 정수값만 받는다.\n",
        "print(\"나는 %s을 좋아해요\" % \"파이썬\") # s는 string을 의미\n",
        "print(\"Apple은 %c로 시작해요\" %\"A\") # c는 character를 의미: 한 글자만 받는다.\n",
        "# %s로 쓰면 정수건 문자건 다 출력 가능\n",
        "print(\"나는 %s색과 %s색을 좋아해요\" %(\"파란\", \"빨간\")) # 괄호 안에가 순서대로 들어간다\n",
        "\n",
        "# 방법 2\n",
        "print(\"나는 {}살입니다\".format(20)) # format 안 값이 중괄호에 들어감\n",
        "print(\"나는 {}색과 {}색을 좋아해요\" .format(\"파란\", \"빨간\"))\n",
        "# print(\"나는 {1}색과 {0}색을 좋아해요\", .format(\"파란\", \"빨간\")) 0자리에 파란, 1자리에 빨간이 들어간다\n",
        "\n",
        "# 방법 3\n",
        "print(\"나는 {age}살이며, {color}색을 좋아해요.\".format(age = 20, color = \"파랑\")) # 중괄호 속 값을 포맷 뒤 변수 값으로 할당 가능\n",
        "\n",
        "# 방법 4 (v3.6 이상 가능)\n",
        "age = 20\n",
        "color = \"파랑\"\n",
        "# print문을 f로 시작\n",
        "print(f\"나는 {age}살이며, {color}색을 좋아해요.\")"
      ],
      "metadata": {
        "id": "iKI2DfsKI2oE"
      },
      "execution_count": null,
      "outputs": []
    },
    {
      "cell_type": "code",
      "source": [
        "# 탈출문자\n",
        "\n",
        "print(\"백문이 불여일견 \\n백견이 불여일타\")\n",
        "# 역슬래쉬(\\) n은 줄바꿈을 의미\n",
        "\n",
        "print(\"저는 \\\"나도코딩\\\" 입니다\")\n",
        "# 문자 내 따옴표는 작은 따옴표와 큰 따옴표를 함께 쓰거나, 역슬래쉬를 사용\n",
        "\n",
        "# 역슬래쉬 두번은 문장 내에서 하나의 역슬래쉬가 된다(\\\\: 문장 내에서 \\)\n",
        "print(\"C:\\\\Users\")\n",
        "\n",
        "# \\r: 커서를 맨 앞으로 이동\n",
        "print(\"Red Apple\\rPine\")\n",
        "print(\"Red \\rPine Apple\")\n",
        "\n",
        "# \\b: 백스페이스, 한 글자 삭제\n",
        "print(\"Redd\\bApple\")\n",
        "\n",
        "# \\t: 탭\n",
        "print(\"Red\\tApple\")"
      ],
      "metadata": {
        "id": "wjfurqTHLvU9"
      },
      "execution_count": null,
      "outputs": []
    },
    {
      "cell_type": "markdown",
      "source": [
        "4-1. 리스트 \\\\\n",
        "순서를 가지는 객체의 집합"
      ],
      "metadata": {
        "id": "GOLcIHBZPO4y"
      }
    },
    {
      "cell_type": "code",
      "source": [
        "# 지하철 칸별로 10명, 20명, 30명\n",
        "# 리스트는 []를 이용\n",
        "subway = [10,20,30]\n",
        "# subway라는 리스트 안에 세 개의 값들이 들어간다\n",
        "print(subway)"
      ],
      "metadata": {
        "id": "TmCNXXDwEBzD"
      },
      "execution_count": null,
      "outputs": []
    },
    {
      "cell_type": "code",
      "source": [
        "subway = [\"유재석\", \"조세호\", \"박명수\"]\n",
        "# 조세호씨가 몇 번칸에 타고 있는가?\n",
        "print(subway.index(\"조세호\"))"
      ],
      "metadata": {
        "id": "YFYGMYLFEhty"
      },
      "execution_count": null,
      "outputs": []
    },
    {
      "cell_type": "code",
      "source": [
        "# 하하씨가 다음 정류장에서 다음 칸에 탐\n",
        "subway.append(\"하하\")\n",
        "print(subway)\n",
        "# append: 뒤에 더함\n",
        "\n",
        "# 정형돈씨가 유재석/조세호 사이에 탐\n",
        "subway.insert(1, \"정형돈\") # 1번째에 정형돈을 insert\n",
        "print(subway)"
      ],
      "metadata": {
        "id": "JhO874G5E0W0"
      },
      "execution_count": null,
      "outputs": []
    },
    {
      "cell_type": "code",
      "source": [
        "# 지하철에 있는 사람을 한 명씩 뒤에서 꺼내기\n",
        "print(subway.pop())\n",
        "print(subway)"
      ],
      "metadata": {
        "id": "qiFXQo9lFOoU"
      },
      "execution_count": null,
      "outputs": []
    },
    {
      "cell_type": "code",
      "source": [
        "# 같은 이름의 사람이 몇 명 있는지 확인\n",
        "subway.append(\"유재석\")\n",
        "print(subway.count(\"유재석\"))"
      ],
      "metadata": {
        "id": "Siqa7dQLFcfq"
      },
      "execution_count": null,
      "outputs": []
    },
    {
      "cell_type": "code",
      "source": [
        "# 정렬도 가능: sort\n",
        "num_list = [5,2,4,3,1]\n",
        "num_list.sort()\n",
        "print(num_list)"
      ],
      "metadata": {
        "id": "P-NDVXLNFy-1"
      },
      "execution_count": null,
      "outputs": []
    },
    {
      "cell_type": "code",
      "source": [
        "# 뒤집기\n",
        "num_list.reverse()\n",
        "print(num_list)"
      ],
      "metadata": {
        "id": "DQKbzg2xF_Cx"
      },
      "execution_count": null,
      "outputs": []
    },
    {
      "cell_type": "code",
      "source": [
        "# 모두 지우기\n",
        "num_list.clear()\n",
        "print(num_list)"
      ],
      "metadata": {
        "id": "QPZTvZREGFZC"
      },
      "execution_count": null,
      "outputs": []
    },
    {
      "cell_type": "code",
      "source": [
        "# 리스트는 다양한 자료형 함께 사용 가능\n",
        "mix_list = [\"조세호\", 20, True]\n",
        "print(mix_list)\n",
        "\n",
        "# 리스트 확장\n",
        "num_list.extend(mix_list)\n",
        "print(num_list)"
      ],
      "metadata": {
        "id": "23A1moL5GNtj"
      },
      "execution_count": null,
      "outputs": []
    },
    {
      "cell_type": "markdown",
      "source": [
        "4-2. 사전 \\\\\n",
        "key와 value 형태를 가진다 \\\\\n",
        "key는 중복이 허용되지 않는다"
      ],
      "metadata": {
        "id": "1emBM6TtGpbJ"
      }
    },
    {
      "cell_type": "code",
      "source": [
        "# 사전은 중괄호 {}를 사용\n",
        "cabinet = {3: \"유재석\", 100: \"김태호\"} # 3번 key에 유재석이라는 value 할당\n",
        "print(cabinet[3]) # 사전[key값] -> value값\n",
        "print(cabinet.get(3)) # 사전.get(key값) -> value값\n",
        "\n",
        "# 첫 번째 방법에서 사전에 없는 key를 쓰면 keyerror 출력 후 종료\n",
        "# 두 번째 방법에서 사전에 없는 key를 쓰면 none 출력 후 뒤 코드 실행\n",
        "print(cabinet.get(5, \"사용 가능\")) # 사전에 없는 key를 쓴 경우 뒤의 글자를 출력"
      ],
      "metadata": {
        "id": "CVEpgdNGG-Sq"
      },
      "execution_count": null,
      "outputs": []
    },
    {
      "cell_type": "code",
      "source": [
        "# 사전 자료 안에 값 확인하기\n",
        "print(3 in cabinet) # True\n",
        "print(5 in cabinet) # False"
      ],
      "metadata": {
        "id": "XgdPIQUgIHKx"
      },
      "execution_count": null,
      "outputs": []
    },
    {
      "cell_type": "code",
      "source": [
        "# key는 string도 가능\n",
        "cabinet = {\"A-3\": \"유재석\", \"B-100\": \"김태호\"}\n",
        "\n",
        "# 새 손님 할당\n",
        "cabinet[\"C-20\"] = \"조세호\" # 사전에 []안의 key를 만들고 value 할당/ 만약 기존에 있는 key라면 value update\n",
        "print(cabinet)"
      ],
      "metadata": {
        "id": "eqdjHeinIRmx"
      },
      "execution_count": null,
      "outputs": []
    },
    {
      "cell_type": "code",
      "source": [
        "# 사라진 손님: del 이용\n",
        "del cabinet[\"A-3\"]\n",
        "print(cabinet)"
      ],
      "metadata": {
        "id": "YB1owLQDIuBl"
      },
      "execution_count": null,
      "outputs": []
    },
    {
      "cell_type": "code",
      "source": [
        "# key들만 출력\n",
        "print(cabinet.keys())\n",
        "# value들만 출력\n",
        "print(cabinet.values())\n",
        "# 둘다 쌍으로 출력\n",
        "print(cabinet.items())"
      ],
      "metadata": {
        "id": "Fnu2UhaUI-Ik"
      },
      "execution_count": null,
      "outputs": []
    },
    {
      "cell_type": "code",
      "source": [
        "# 목욕탕 폐점\n",
        "cabinet.clear()\n",
        "print(cabinet)"
      ],
      "metadata": {
        "id": "gocC6Ba2JKPY"
      },
      "execution_count": null,
      "outputs": []
    },
    {
      "cell_type": "markdown",
      "source": [
        "4-3. 튜플 \\\\\n",
        "내용 변경과 추가를 할 수 없음 but\n",
        "리스트보다 속도가 빠름"
      ],
      "metadata": {
        "id": "RDLemz5rJTDt"
      }
    },
    {
      "cell_type": "code",
      "source": [
        "# 튜플은 콤마로 구분\n",
        "menu = (\"돈까스\", \"치즈까스\")\n",
        "print(menu[0])\n",
        "print(menu[1])\n",
        "# menu.add(\"생선까스\")는 에러를 출력"
      ],
      "metadata": {
        "id": "y9mKWvhtJjVZ"
      },
      "execution_count": null,
      "outputs": []
    },
    {
      "cell_type": "code",
      "source": [
        "# 튜플을 이용해 서로 다른 변수에 서로 다른 값들을 넣어주기\n",
        "(name, age, hobby) = (\"김종국\", 20, \"축구\")\n",
        "print(name, age, hobby)"
      ],
      "metadata": {
        "id": "7MzYqsacJzux"
      },
      "execution_count": null,
      "outputs": []
    },
    {
      "cell_type": "markdown",
      "source": [
        "4-4. 집합 (set) \\\\\n",
        "중복 안됨, 순서 없음"
      ],
      "metadata": {
        "id": "HWI-hgvVKIzN"
      }
    },
    {
      "cell_type": "code",
      "source": [
        "# {}를 쓰지만 사전과 달리 key, value 없음\n",
        "my_set = {1,2,3,3,3}\n",
        "print(my_set)\n",
        "# 중복 허용 안하므로 1,2,3만 나온다"
      ],
      "metadata": {
        "id": "gduUiig-KR1d"
      },
      "execution_count": null,
      "outputs": []
    },
    {
      "cell_type": "code",
      "source": [
        "# 리스트로 만들고 set으로 앞 뒤를 감싸주기\n",
        "python = set([\"유재석\", \"박명수\"])\n",
        "java = {\"유재석\", \"김태호\", \"양세찬\"}\n",
        "\n",
        "# 교집합\n",
        "print(java & python)\n",
        "print(java.intersection(python))\n",
        "\n",
        "# 합집합\n",
        "print(java | python)\n",
        "print(java.union(python))"
      ],
      "metadata": {
        "id": "VhV9MVNJKdBv"
      },
      "execution_count": null,
      "outputs": []
    },
    {
      "cell_type": "code",
      "source": [
        "# 차집합: java는 할 수 있지만 python은 할 줄 모르는 사람\n",
        "print(java - python)\n",
        "print(java.difference(python))\n",
        "\n",
        "# 집합에 원소 추가\n",
        "python.add(\"김태호\")\n",
        "print(python)\n",
        "\n",
        "# 집합에서 원소 빼기\n",
        "java.remove(\"김태호\")\n",
        "print(java)"
      ],
      "metadata": {
        "id": "Bs5YkOtJK4un"
      },
      "execution_count": null,
      "outputs": []
    },
    {
      "cell_type": "markdown",
      "source": [
        "4-5. 자료구조의 변경"
      ],
      "metadata": {
        "id": "hJ6NfOV6LbaK"
      }
    },
    {
      "cell_type": "code",
      "source": [
        "# 집합 생성\n",
        "menu = {\"커피\", \"우유\", \"주스\"}\n",
        "print(menu, type(menu)) # type -> class: set\n",
        "\n",
        "# 집합을 리스트로 바꿔보기\n",
        "menu = list(menu)\n",
        "print(menu, type(menu)) # type -> class: list\n",
        "\n",
        "# 튜플로 바꿔보기\n",
        "menu = tuple(menu)\n",
        "print(menu, type(menu)) # type -> class: tuple\n",
        "\n",
        "# 다시 set으로 \n",
        "menu = set(menu)\n",
        "print(menu, type(menu)) "
      ],
      "metadata": {
        "id": "V3LLtHQULiCT"
      },
      "execution_count": null,
      "outputs": []
    },
    {
      "cell_type": "code",
      "source": [
        "# 퀴즈\n",
        "# 코딩 대회를 주최. 참석률을 높이기 위해 이벤트 진행\n",
        "# 댓글 작성자 중 추첨을 통해 1명은 치킨, 3명은 커피 쿠폰 증정. 추천 프로그램을 작성하기\n",
        "# 조건1: 댓글은 20명이 작성, 아이디는 1~20이라 가정\n",
        "# 조건2: 댓글 내용과 상관없이 무작위로 추첨하되 중복 불가\n",
        "# 조건3: random 모듈의 shuffle과 sample 활용: shuffle은 list의 순서를 무작위로 변경, sample은 첫 번째 인자에서 두 번째 인자의 수만큼 무작위로 뽑음\n",
        "\n",
        "from random import *\n",
        "id = range(1,21) # 1부터 20까지 숫자를 생성\n",
        "id = list(id) # range를 list로 변경\n",
        "shuffle(id) # 무작위로 섞기\n",
        "print(id)\n",
        "winners = sample(id, 4) # 상품을 받을 4명 선정\n",
        "print(\"-- 당첨자 발표 --\")\n",
        "print(\"치킨 당첨자: {0}\".format(winners[0])) # winners 첫 위치\n",
        "print(\"커피 당첨자: {0}\".format(winners[1:])) # winners 두번째부터 끝\n",
        "print(\"-- 축하합니다 --\")"
      ],
      "metadata": {
        "id": "haJzJRtnMB8L"
      },
      "execution_count": null,
      "outputs": []
    },
    {
      "cell_type": "markdown",
      "source": [
        "5-1. If 문"
      ],
      "metadata": {
        "id": "EhOc8rqnO33X"
      }
    },
    {
      "cell_type": "code",
      "source": [
        "# 날씨에 따른 조건문\n",
        "# if 조건: 실행 명령문\n",
        "# elif 조건: 실행 명령문\n",
        "# else: 실행 명령문\n",
        "\n",
        "weather = input(\"오늘 날씨는?\") # input: 사용자의 명령을 받는 문장. 실행 시 커서가 사용자의 입력을 기다리고 입력값은 string 형태로 weather 변수에 저장\n",
        "if weather == \"비\" or weather == \"눈\":\n",
        "  print(\"우산을 챙기세요\")\n",
        "elif weather == \"미세먼지\":\n",
        "  print(\"마스크를 쓰세요\")\n",
        "else:\n",
        "  print(\"준비물은 필요 없어요\")"
      ],
      "metadata": {
        "id": "SN9knlQBQeLp"
      },
      "execution_count": null,
      "outputs": []
    },
    {
      "cell_type": "code",
      "source": [
        "temp = int(input(\"기온은 어때요?\")) # input은 항상 string으로 받기 때문에 숫자로 만드려면 int로 감싸준다\n",
        "if 30 <= temp:\n",
        "  print(\"너무 더워요\")\n",
        "elif 10 <= temp and temp <30:\n",
        "  print(\"괜찮은 날씨\")\n",
        "elif 0 <= temp <10:\n",
        "  print(\"쌀쌀해요\")\n",
        "else:\n",
        "  print(\"추워요\")"
      ],
      "metadata": {
        "id": "CXf_m7HSRnz2"
      },
      "execution_count": null,
      "outputs": []
    },
    {
      "cell_type": "markdown",
      "source": [
        "5-2. for 반복문"
      ],
      "metadata": {
        "id": "DigRrOsqSYcK"
      }
    },
    {
      "cell_type": "code",
      "source": [
        "for waiting_no in [0,1,2,3,4]:\n",
        "  print(\"대기번호 : {0}\".format(waiting_no))\n",
        "# 리스트 내 값들을 하나씩 돌아가며 실행\n",
        "# 다른 방법\n",
        "for waiting_no in range(1, 6): # 1에서 5까지 수 내에서 for 문 반복\n",
        "  print(\"대기번호 : {0}\".format(waiting_no))"
      ],
      "metadata": {
        "id": "NnnmgYxpSfs0"
      },
      "execution_count": null,
      "outputs": []
    },
    {
      "cell_type": "code",
      "source": [
        "hero = [\"아이언맨\", \"토르\", \"블랙위도우\"]\n",
        "for customer in hero:\n",
        "  print(\"{0}, 커피 가져가세요\".format(customer))"
      ],
      "metadata": {
        "id": "TXad2CUDTJtd"
      },
      "execution_count": null,
      "outputs": []
    },
    {
      "cell_type": "code",
      "source": [
        "# 한 줄 for\n",
        "# 출석 번호가 1,2,3,4,5\n",
        "# 앞에 100을 붙이기로 함\n",
        "student = [1,2,3,4,5]\n",
        "student = [i+100 for i in student] # i에 100 더한 값을 리스트에 넣을건데, i는 student라는 리스트에서 불러오기\n",
        "print(student)"
      ],
      "metadata": {
        "id": "tet-ATgPWOMt"
      },
      "execution_count": null,
      "outputs": []
    },
    {
      "cell_type": "code",
      "source": [
        "# 학생 이름을 길이로 변경\n",
        "students = [\"iron man\", \"thor\", \"black widow\"]\n",
        "students = [len(i) for i in students]\n",
        "print(students)"
      ],
      "metadata": {
        "colab": {
          "base_uri": "https://localhost:8080/"
        },
        "id": "IpWNh6PWWnZG",
        "outputId": "19771c9e-61fa-4279-eb7b-c1342b4dc4c4"
      },
      "execution_count": null,
      "outputs": [
        {
          "output_type": "execute_result",
          "data": {
            "text/plain": [
              "[8, 4, 11]"
            ]
          },
          "metadata": {},
          "execution_count": 47
        }
      ]
    },
    {
      "cell_type": "markdown",
      "source": [
        "5-3. while 반복문"
      ],
      "metadata": {
        "id": "7OMM1PSeTjCf"
      }
    },
    {
      "cell_type": "code",
      "source": [
        "# 어떤 조건이 만족할떄까지 반복\n",
        "customer = \"토르\"\n",
        "index = 5\n",
        "\n",
        "while index >=1: # index가 1보다 크거나 같은 동안 반복\n",
        "  print(\"{0}, 커피 가져가세요. {1}번 남았어요\".format(customer, index))\n",
        "  index -= 1 # 부를 때마다 index 줄이기\n",
        "  if index == 0:\n",
        "    print(\"커피는 폐기처분되었습니다\")\n",
        "\n",
        "# 무한루프에 빠진 경우 ctrl+c로 탈출"
      ],
      "metadata": {
        "id": "J_E4k1tGTo6y"
      },
      "execution_count": null,
      "outputs": []
    },
    {
      "cell_type": "code",
      "source": [
        "customer = \"토르\"\n",
        "person = \"unknown\"\n",
        "\n",
        "while person != customer:\n",
        "  print(\"{0}, 커피 가져가세요.\".format(customer))\n",
        "  person = input(\"이름이 어떻게 되세요?\")"
      ],
      "metadata": {
        "id": "flYQ5QhKUWM0"
      },
      "execution_count": null,
      "outputs": []
    },
    {
      "cell_type": "markdown",
      "source": [
        "5-4. continue와 break \\\\\n",
        "반복문 내에서 사용"
      ],
      "metadata": {
        "id": "9V8i5vlFVE7j"
      }
    },
    {
      "cell_type": "code",
      "source": [
        "absent = [2,5,7,9] # 결석한 친구는 넘어가고 다른 친구가 읽게 하기\n",
        "for student in range(1,11):\n",
        "  if student in absent:\n",
        "    continue \n",
        "  print(\"{0}, 책을 읽어봐\".format(student))\n",
        "# continue는 아래 문장을 더 이상 실행시키지 않고 다음 반복으로 넘어감"
      ],
      "metadata": {
        "id": "abmiYNJGVQdi"
      },
      "execution_count": null,
      "outputs": []
    },
    {
      "cell_type": "code",
      "source": [
        "no_book = [6] # 책을 깜빡한 친구는 혼낼거임\n",
        "for student in range(1,11):\n",
        "  if student in absent:\n",
        "    continue \n",
        "  elif student in no_book:\n",
        "    print(\"오늘 수업 여기까지. {0}은 교무실로 따라와\".format(student))\n",
        "    break \n",
        "  print(\"{0}, 책을 읽어봐\".format(student))\n",
        "# break는 그 뒤에 반복값 있던 없던 상관없이 반복문을 탈출"
      ],
      "metadata": {
        "id": "Vaqx04PiVlx1"
      },
      "execution_count": null,
      "outputs": []
    },
    {
      "cell_type": "code",
      "source": [
        "# 퀴즈\n",
        "# 20명의 승객과 매칭기회가 있을 때 총 탑승 승객 수를 구하는 프로그램 작성하기\n",
        "# 조건1: 승객별 운행 소요시간은 5~50분사이 난수\n",
        "# 조건2: 소요시간 5~15분 사이 승객만 매칭하기\n",
        "# from random import *\n",
        "\n",
        "count = 0 # 총 탑승 승객 수\n",
        "for i in range(1, 21): # 1~20이라는 수 (승객)\n",
        "  time = randrange(5,51) # 5~50분 소요시간\n",
        "  if 5 <= time <= 15: # 5~15분 손님은 태우고 이때 탑승 승객 수 증가 처리\n",
        "    print(\"[o] {0}번째 손님 (소요시간 {1}분)\".format(i, time))\n",
        "    count += 1\n",
        "  else: # 매칭 실패한 경우우\n",
        "    print(\"[ ] {0}번째 손님 (소요시간 {1}분)\".format(i, time))\n",
        "  \n",
        "print(\"총 탑승 승객 수 {0}분\".format(count))"
      ],
      "metadata": {
        "id": "I8Y1opbaWIAp"
      },
      "execution_count": null,
      "outputs": []
    },
    {
      "cell_type": "markdown",
      "source": [
        "6-1. 함수: 전달값과 반환값 \\\\\n",
        "def 함수명(전달값): \\\\\n",
        "함수 실행 명령들 \\\\\n",
        "return 반환값 "
      ],
      "metadata": {
        "id": "ppjXuxkOW3MM"
      }
    },
    {
      "cell_type": "code",
      "source": [
        "def open_account(): \n",
        "  print(\"새로운 계좌가 생성되었습니다.\")\n",
        "\n",
        "open_account()"
      ],
      "metadata": {
        "id": "OcPb1cneQGRh"
      },
      "execution_count": null,
      "outputs": []
    },
    {
      "cell_type": "code",
      "source": [
        "def deposit(balance, money): \n",
        "  print(\"입금이 완료되었습니다. 잔액은 {0}원 입니다.\".format(balance + money))\n",
        "  return balance + money\n",
        "\n",
        "balance = 0 # 잔액\n",
        "balance = deposit(balance, 1000) # return을 통해 반환된 값을 balance 변수에 저장\n",
        "print(balance)"
      ],
      "metadata": {
        "id": "g7qLws15SHqM"
      },
      "execution_count": null,
      "outputs": []
    },
    {
      "cell_type": "code",
      "source": [
        "def withdraw(balance, money):\n",
        "  if balance >= money: # 잔액이 출금보다 많으면 (가능)\n",
        "    print(\"출금 완료. 잔액은 {0}원\".format(balance-money))\n",
        "    return balance-money\n",
        "  else:\n",
        "    print(\"출금 불가. 잔액은 {0}원\".format(balance))\n",
        "    return balance\n",
        "\n",
        "balance = withdraw(balance, 2000)"
      ],
      "metadata": {
        "id": "C9MOmSZVTIJN"
      },
      "execution_count": null,
      "outputs": []
    },
    {
      "cell_type": "code",
      "source": [
        "def with_night(balance, money): \n",
        "  commission = 100 # 저녁 출금 수수료 100원\n",
        "  return commission, balance-money-commission # 수수료와 최종잔액을 튜플 형식(콤마로 구분)으로 반환\n",
        "\n",
        "commission, balance = with_night(balance, 500)\n",
        "print(\"수수료 {0}원. 잔액은 {1}원\".format(commission, balance))"
      ],
      "metadata": {
        "id": "lr_vhwO2Tq7U"
      },
      "execution_count": null,
      "outputs": []
    },
    {
      "cell_type": "markdown",
      "source": [
        "6-2. 기본값 설정"
      ],
      "metadata": {
        "id": "mUQO9LdMUVV8"
      }
    },
    {
      "cell_type": "code",
      "source": [
        "def profile(name, age, main_lang): \n",
        "  print(\"이름: {0} \\t 나이: {1} \\t 주 사용 언어: {2}\"\\\n",
        "        .format(name, age, main_lang)) # 코드 줄바꿈시 역슬래쉬 후 엔터\n",
        "\n",
        "profile(\"유재석\", 20, \"파이썬\")\n",
        "profile(\"김태호\", 18, \"자바\")"
      ],
      "metadata": {
        "id": "WhUBViHEUdr0"
      },
      "execution_count": null,
      "outputs": []
    },
    {
      "cell_type": "code",
      "source": [
        "# 같은 학교 같은 학년 같은 반 같은 수업을 듣는다고 가정 -> 기본값을 지정하면 편리\n",
        "def profile(name, age=17, main_lang=\"파이썬\"): \n",
        "  print(\"이름: {0} \\t 나이: {1} \\t 주 사용 언어: {2}\"\\\n",
        "        .format(name, age, main_lang)) \n",
        "  \n",
        "profile(\"유재석\")\n",
        "profile(\"김태호\")"
      ],
      "metadata": {
        "id": "xfzD4cW3VSqE"
      },
      "execution_count": null,
      "outputs": []
    },
    {
      "cell_type": "markdown",
      "source": [
        "6-3. 키워드값을 이용한 함수 호출"
      ],
      "metadata": {
        "id": "LYMe2x29VhdD"
      }
    },
    {
      "cell_type": "code",
      "source": [
        "def profile(name, age, main_lang): \n",
        "  print(name, age, main_lang)\n",
        "\n",
        "profile(age = 15, name = \"유재석\", main_lang = \"파이썬\") # 함수에서 전달받는 매개변수 값을 키워드로 지정하여 전달"
      ],
      "metadata": {
        "id": "uQJ3yg-3Voma"
      },
      "execution_count": null,
      "outputs": []
    },
    {
      "cell_type": "markdown",
      "source": [
        "6-4. 가변인자를 이용한 함수 호출"
      ],
      "metadata": {
        "id": "VKaFdFCUWCr4"
      }
    },
    {
      "cell_type": "code",
      "source": [
        "def profile(name, age, lang1, lang2, lang3):\n",
        "  print(\"이름 {0}\\t나이: {1}\\t\".format(name, age), end=\" \") # end =\" \"를 적으면 프린트문 끝날때 줄바꿈하지 않고 밑의 문장을 출력\n",
        "  print(lang1, lang2, lang3)\n",
        "\n",
        "profile(\"유재석\", 20, \"python\", \"java\", \"R\")"
      ],
      "metadata": {
        "id": "GAGdsRGaWHxO"
      },
      "execution_count": null,
      "outputs": []
    },
    {
      "cell_type": "code",
      "source": [
        "# 인자가 추가되거나 부족한 경우를 위해 가변인자를 사용: *인자이름 -> 넣고싶은만큼 값을 넣을 수 있음\n",
        "def profile(name, age, *language):\n",
        "  print(\"이름 {0}\\t나이: {1}\\t\".format(name, age), end=\" \")\n",
        "  for lang in language:\n",
        "    print(lang, end=\" \")\n",
        "  print() # 줄바꿈을 위해\n",
        "\n",
        "profile(\"유재석\", 20, \"python\", \"java\", \"R\", \"C++\")\n",
        "profile(\"김태호\", 19, \"python\")"
      ],
      "metadata": {
        "id": "m5x9wlqCWv86"
      },
      "execution_count": null,
      "outputs": []
    },
    {
      "cell_type": "markdown",
      "source": [
        "6-5. 지역변수와 전역변수 \\\\\n",
        "지역변수: 함수 내에서만 사용 가능 (호출시 만들어졌다가 호출 후 사라짐) \\\\\n",
        "전역변수: 프로그램 내 어디에서든 사용 가능"
      ],
      "metadata": {
        "id": "b_1K91YSXuIK"
      }
    },
    {
      "cell_type": "code",
      "source": [
        "gun = 10 # 전역변수\n",
        "def checkpoint(soldiers):\n",
        "  gun = 20 \n",
        "  gun = gun - soldiers # 이 gun은 지역변수\n",
        "  print(\"[함수 내] 남은 총: {0}\".format(gun))\n",
        "\n",
        "print(\"전체 총: {0}\".format(gun))\n",
        "checkpoint(2)\n",
        "print(\"남은 총: {0}\".format(gun))"
      ],
      "metadata": {
        "id": "2c7iX8R6YDPD"
      },
      "execution_count": null,
      "outputs": []
    },
    {
      "cell_type": "code",
      "source": [
        "# 함수 내에서 전역변수를 사용하려면\n",
        "gun = 10 \n",
        "def checkpoint(soldiers):\n",
        "  global gun # 전역 공간에 있는 gun을 checkpoint 함수 내에서 사용\n",
        "  gun = gun - soldiers\n",
        "  print(\"[함수 내] 남은 총: {0}\".format(gun))\n",
        "\n",
        "print(\"전체 총: {0}\".format(gun))\n",
        "checkpoint(2)\n",
        "print(\"남은 총: {0}\".format(gun))"
      ],
      "metadata": {
        "id": "14mEq8m7Y_VW"
      },
      "execution_count": null,
      "outputs": []
    },
    {
      "cell_type": "code",
      "source": [
        "# 가급적 함수의 전달값(paramter)로 받아 계산하는 것이 좋다\n",
        "def checkpoint_ret(gun, soldiers):\n",
        "  gun = gun-soldiers\n",
        "  print(\"[함수 내] 남은 총: {0}\".format(gun))\n",
        "  return gun # return을 통해 바뀐 gun 개수를 외부로 뺄 수 있다\n",
        "\n",
        "gun = checkpoint_ret(gun, 2)"
      ],
      "metadata": {
        "id": "V3qiFyqFZMs-"
      },
      "execution_count": null,
      "outputs": []
    },
    {
      "cell_type": "code",
      "source": [
        "# 퀴즈: 표준 체중 구하는 프로그램\n",
        "# 남: 키 x 키 x 22\n",
        "# 여: 키 x 키 x 21\n",
        "# 조건1: 표준 체중은 함수명: std_weight, 전달값: height, gender 를 가지는 함수 내에서 계산\n",
        "# 조건2: 표준 체중은 소수점 둘째 자리까지 표시\n",
        "\n",
        "def std_weight(height, gender): # 키는 m 단위, 성별은 \"남자\", \"여자\"\n",
        "  if gender == \"남자\":\n",
        "    return height * height * 22\n",
        "  else: \n",
        "    return height * height * 21\n",
        "\n",
        "height = 175 #cm 단위\n",
        "gender = \"남자\"\n",
        "weight = round(std_weight(height/100 , gender),2)\n",
        "print(\"키 {0}cm {1}의 표준 체중은 {2}kg입니다\".format(height, gender, weight))"
      ],
      "metadata": {
        "id": "kZ9RswpTZz8Y"
      },
      "execution_count": null,
      "outputs": []
    },
    {
      "cell_type": "markdown",
      "source": [
        "7-1. 표준 입출력"
      ],
      "metadata": {
        "id": "ArZpsE8ObO_z"
      }
    },
    {
      "cell_type": "code",
      "source": [
        "# sep을 통해 출력 구분\n",
        "print(\"python\", \"java\", \"R\")\n",
        "print(\"python\", \"java\", \"R\", sep = \" vs \")\n",
        "\n",
        "# end를 통해 문장의 끝을 바꾸고 줄바꿈 하지 않은 채 한 줄로 연달아 출력력\n",
        "print(\"python\", \"java\", \"R\", sep = \" vs \", end = \"?\")\n",
        "print(\"뭐가 재밌나요?\")"
      ],
      "metadata": {
        "id": "M6DJ2h5HhHBx"
      },
      "execution_count": null,
      "outputs": []
    },
    {
      "cell_type": "code",
      "source": [
        "# import sys\n",
        "# print(\"python\", \"java\", file = sys.stdout) # 표준 출력으로 나옴 stdout\n",
        "# print(\"python\", \"java\", file = sys.stderr) # 표준 에러로 처리 stderr"
      ],
      "metadata": {
        "id": "lKchDQH9hxSd"
      },
      "execution_count": null,
      "outputs": []
    },
    {
      "cell_type": "code",
      "source": [
        "# 시험 성적 dictionary\n",
        "scores = {\"수학\": 0, \"영어\": 50, \"코딩\": 100}\n",
        "for subject, score in scores.items(): # dictionary.items 하면 딕셔너리의 key와 value pair tuple로 나옴\n",
        "  print(subject.ljust(8), str(score).rjust(4), sep = \":\")\n",
        "\n",
        "# ljust(n): n칸 확보한 상태에서 왼쪽으로 정렬\n",
        "# rjust(n): n칸 확보한 상태에서 오른쪽으로 정렬 (string에 적용)"
      ],
      "metadata": {
        "id": "znHGRGwNib1p"
      },
      "execution_count": null,
      "outputs": []
    },
    {
      "cell_type": "code",
      "source": [
        "# 은행 대기순번표\n",
        "# 001, 002, ...\n",
        "for num in range(1,21):\n",
        "  print(\"대기번호 : \" + str(num).zfill(3))\n",
        "# zfill(n): n크기만큼 확보하고 값을 집어넣는데, 값이 없는 공간에 대해서는 0으로 채운다 "
      ],
      "metadata": {
        "id": "1nC5WZRQjyf-"
      },
      "execution_count": null,
      "outputs": []
    },
    {
      "cell_type": "code",
      "source": [
        "# 표준 입력: input\n",
        "answer = input(\"값을 입력하세요 : \")\n",
        "# input 실행 후 값을 넣으면 그 값이 문자열 형태로 변수에 저장\n",
        "print(\"입력한 값은 \"+ answer + \" 입니다.\")\n",
        "# 숫자 값을 입력하려면 int(변수)를 통해 문자열을 숫자로 변경해야 함함"
      ],
      "metadata": {
        "id": "ggu2C5sHkTq0"
      },
      "execution_count": null,
      "outputs": []
    },
    {
      "cell_type": "markdown",
      "source": [
        "7-2. 다양한 출력 포맷"
      ],
      "metadata": {
        "id": "aSUwzkpZk95T"
      }
    },
    {
      "cell_type": "code",
      "source": [
        "# 빈 자리는 빈공간으로 두고 오른쪽 정렬을 하되, 총 10자리 공간을 확보\n",
        "print(\"{0: >10}\".format(500)) # space는 빈공간, >는 오른쪽 방향 정렬을 의미, 10자리 공간 확보하며 500을 출력"
      ],
      "metadata": {
        "id": "eEgovCJKlWbM"
      },
      "execution_count": null,
      "outputs": []
    },
    {
      "cell_type": "code",
      "source": [
        "# 양수일 때는 +로, 음수일 때는 -로 표시\n",
        "print(\"{0: >+10}\".format(500))\n",
        "print(\"{0: >-10}\".format(500))"
      ],
      "metadata": {
        "id": "NXo9rgvLlvos"
      },
      "execution_count": null,
      "outputs": []
    },
    {
      "cell_type": "code",
      "source": [
        "# 왼쪽 정렬하고, 빈칸으로 _로 채우기\n",
        "print(\"{0:_<10}\".format(500))"
      ],
      "metadata": {
        "id": "tdZQCVzOl6jg"
      },
      "execution_count": null,
      "outputs": []
    },
    {
      "cell_type": "code",
      "source": [
        "# 3자리마다 콤마를 찍기\n",
        "print(\"{0:,}\".format(10000000))\n",
        "# 3자리마다 콤마를 찍고 부호 붙이기\n",
        "print(\"{0:+,}\".format(10000000))\n",
        "# 3자리마다 콤마를 찍고 부호 붙이며 자릿수 확보, 빈 자리는 ^로 채우기\n",
        "print(\"{0:^<+30,}\".format(10000000))"
      ],
      "metadata": {
        "id": "oFhECWzHmJWp"
      },
      "execution_count": null,
      "outputs": []
    },
    {
      "cell_type": "code",
      "source": [
        "# 소수점 출력: f\n",
        "print(\"{0:f}\".format(5/3))\n",
        "print(\"{0:.2f}\".format(5/3)) # 소수점 셋째 자리에서 반올림, 두번째 자리까지만 표시"
      ],
      "metadata": {
        "id": "4WWoZXXGmfkt"
      },
      "execution_count": null,
      "outputs": []
    },
    {
      "cell_type": "markdown",
      "source": [
        "7-3. 파일입출력"
      ],
      "metadata": {
        "id": "tFTtj9bGnGJB"
      }
    },
    {
      "cell_type": "code",
      "source": [
        "score_file = open(\"score.txt\", \"w\", encoding = \"utf8\") # w는 쓰기위한 목적으로 연다는 것을 알려준다\n",
        "print(\"수학:0\", file = score_file) # 파일에 쓰는 내용\n",
        "score_file.close() # 한번 연 파일은 항상 닫아줘야함"
      ],
      "metadata": {
        "id": "LMZv3tASnMXC"
      },
      "execution_count": null,
      "outputs": []
    },
    {
      "cell_type": "code",
      "source": [
        "score_file = open(\"score.txt\", \"a\", encoding = \"utf8\") # a는 덮어쓰지 않고 뒤에 이어쓸때\n",
        "score_file.write(\"과학:80\")\n",
        "score_file.write(\"\\n코딩:100\")\n",
        "score_file.close()"
      ],
      "metadata": {
        "id": "KxfAMJRDpTI8"
      },
      "execution_count": null,
      "outputs": []
    },
    {
      "cell_type": "code",
      "source": [
        "# 모든 내용 읽기\n",
        "score_file = open(\"score.txt\", \"r\", encoding = \"utf8\") # r은 읽는 용도\n",
        "print(score_file.read())\n",
        "score_file.close()\n",
        "\n",
        "# 한줄만 읽고 커서는 다음 줄로 이동\n",
        "score_file = open(\"score.txt\", \"r\", encoding = \"utf8\") # r은 읽는 용도\n",
        "print(score_file.readline())\n",
        "print(score_file.readline(), end = \"\")\n",
        "print(score_file.readline())\n",
        "score_file.close()\n",
        "\n",
        "# 총 몇줄인지 모를때 한줄씩 읽기기\n",
        "score_file = open(\"score.txt\", \"r\", encoding = \"utf8\") \n",
        "while True: \n",
        "  line = score_file.readline()\n",
        "  if not line: # line에 내용이 없으면 반복문 탈출\n",
        "    break\n",
        "  print(line, end=\"\")\n",
        "score_file.close()\n",
        "\n",
        "# 또는 리스트에 할당하여 처리\n",
        "score_file = open(\"score.txt\", \"r\", encoding = \"utf8\") \n",
        "lines = score_file.readlines() # 모든 라인을 불러와 리스트로 저장\n",
        "for line in lines:\n",
        "  print(line, end=\"\")\n",
        "score_file.close()"
      ],
      "metadata": {
        "id": "xD5D7_VapZA0"
      },
      "execution_count": null,
      "outputs": []
    },
    {
      "cell_type": "markdown",
      "source": [
        "7-4. pickle \\\\\n",
        "프로그램 상에서 사용하고 있는 데이터를 파일 형태로 저장"
      ],
      "metadata": {
        "id": "egdsV2PruP7f"
      }
    },
    {
      "cell_type": "code",
      "source": [
        "import pickle\n",
        "profile_file = open(\"profile.pickle\", \"wb\") # b는 binary를 의미. pickle을 쓰기 위해서는 항상 binary type을 정의해줘야함. pickle은 따로 인코딩 필요 없음\n",
        "profile = {\"이름\":\"박명수\", \"나이\":30, \"취미\": [\"축구\", \"골프\", \"코딩\"]}\n",
        "print(profile)\n",
        "# pickle을 이용해 위 데이터를 파일에 쓴다\n",
        "pickle.dump(profile, profile_file) # 앞에 있는 데이터를 뒤의 파일에 저장 \n",
        "profile_file.close()"
      ],
      "metadata": {
        "id": "8L77JU-yuxyx"
      },
      "execution_count": null,
      "outputs": []
    },
    {
      "cell_type": "code",
      "source": [
        "# 위 파일에서 데이터 가져오기\n",
        "profile_file = open(\"profile.pickle\", \"rb\") # 읽기\n",
        "profile = pickle.load(profile_file) # 파일에 있는 내용을 가져와서 데이터 형태로 불러온다\n",
        "print(profile)\n",
        "profile_file.close()"
      ],
      "metadata": {
        "id": "wZtjXt53vlIH"
      },
      "execution_count": null,
      "outputs": []
    },
    {
      "cell_type": "markdown",
      "source": [
        "7-5. with"
      ],
      "metadata": {
        "id": "4ybv1Uvev8v9"
      }
    },
    {
      "cell_type": "code",
      "source": [
        "with open(\"profile.pickle\", \"rb\") as profile_file:\n",
        "  print(pickle.load(profile_file))  # profile_file 변수에 저장\n",
        "# 따로 close 필요 없음음"
      ],
      "metadata": {
        "id": "29A0V-UYwCOg"
      },
      "execution_count": null,
      "outputs": []
    },
    {
      "cell_type": "code",
      "source": [
        "with open(\"study.txt\", \"w\", encoding=\"utf8\") as study_file:\n",
        "  study_file.write(\"파이썬을 공부하고 있어요\")\n",
        "\n",
        "with open(\"Study.txt\", \"r\", encoding=\"utf8\") as study_file:\n",
        "  print(study_file.read())"
      ],
      "metadata": {
        "id": "e_69EQ-bxyek"
      },
      "execution_count": null,
      "outputs": []
    },
    {
      "cell_type": "markdown",
      "source": [
        "8-1. 클래스"
      ],
      "metadata": {
        "id": "yjhXWXO-yKMA"
      }
    },
    {
      "cell_type": "code",
      "source": [
        "# 스타크래프트 예제\n",
        "# 마린: 공격 유닛, 군인, 총을 쏠 수 있음\n",
        "name = \"마린\" # 유닛의 이름\n",
        "hp = 40 # 유닛의 체력\n",
        "damage = 5 # 유닛의 공격력\n",
        "\n",
        "print(\"{} 유닛이 생성되었습니다\".format(name))\n",
        "print(\"체력 {0}, 공격력 {1}\\n\".format(hp, damage))\n",
        "\n",
        "# 탱크: 공격 유닛, 탱크, 포를 쏠 수 있음. 일반모드와 시즈모드가 있음\n",
        "tank_name = \"탱크\" # 유닛의 이름\n",
        "tank_hp = 150 # 유닛의 체력\n",
        "tank_damage = 35 # 유닛의 공격력\n",
        "\n",
        "print(\"{} 유닛이 생성되었습니다\".format(tank_name))\n",
        "print(\"체력 {0}, 공격력 {1}\\n\".format(tank_hp, tank_damage))"
      ],
      "metadata": {
        "id": "FVhlD3wVyMFU"
      },
      "execution_count": null,
      "outputs": []
    },
    {
      "cell_type": "code",
      "source": [
        "# 공격함수\n",
        "def attack(name, location, damage):\n",
        "  print(\"{0} : {1} 방향으로 적군 공격. [공격력 {2}]\".format(\\\n",
        "                                                 name, location, damage))\n",
        "\n",
        "attack(name, \"1시\", damage)\n",
        "attack(tank_name, \"1시\", tank_damage)"
      ],
      "metadata": {
        "id": "dftmw_Tl1eKf"
      },
      "execution_count": null,
      "outputs": []
    },
    {
      "cell_type": "code",
      "source": [
        "# 유닛이 엄청 많이 생긴다면...?\n",
        "# 클래스가 필요: 하나의 틀. 연관이 있는 변수와 함수의 집합으로 이해\n",
        "# class 클래스이름: 함수\n",
        "class Unit: # __init__함수를 통해 필요한 값들 정의의\n",
        "  def __init__(self, name, hp, damage): # 첫 인수는 self\n",
        "    self.name = name\n",
        "    self.hp = hp\n",
        "    self.damage = damage\n",
        "    print(\"{0} 유닛이 생성\".format(self.name))\n",
        "    print(\"체력 {0}, 공격력 {1}\".format(self.hp, self.damage))\n",
        "  \n",
        "marine = Unit(\"마린\", 40, 5) # self를 제외한 부분을 입력\n",
        "tank = Unit(\"탱크\", 150, 35)"
      ],
      "metadata": {
        "id": "eIlvLuDx17yQ"
      },
      "execution_count": null,
      "outputs": []
    },
    {
      "cell_type": "markdown",
      "source": [
        "8-2. \\_\\_init\\_\\_ \\\\\n",
        "파이썬에서 쓰이는 생성자 "
      ],
      "metadata": {
        "id": "C02T-6xI3ZyL"
      }
    },
    {
      "cell_type": "code",
      "source": [
        "# init은 마린, 탱크 등 객체(클래스로 만들어지는 것들)가 만들어질 때 자동으로 호출되는 부분\n",
        "# 마린과 탱크 등은 Unit class의 instance라고 표현\n",
        "# 객체 생성될 때는 init 함수에 정의된 개수 (self를 제외하고) 만큼 값을 받아야 함"
      ],
      "metadata": {
        "id": "jYGGosYF3fNA"
      },
      "execution_count": null,
      "outputs": []
    },
    {
      "cell_type": "markdown",
      "source": [
        "8-3. 멤버 변수"
      ],
      "metadata": {
        "id": "GptdCCIU5OMX"
      }
    },
    {
      "cell_type": "code",
      "source": [
        "# 위에서 self.name, self.hp같은 애들이 멤버변수\n",
        "# .으로 멤버변수에 접근 가능\n",
        "print(\"유닛이름: {0}, 공격력 {1}\".format(tank.name, tank.damage)) "
      ],
      "metadata": {
        "id": "kG71r0g35RGn"
      },
      "execution_count": null,
      "outputs": []
    },
    {
      "cell_type": "code",
      "source": [
        "from traitlets.config import T\n",
        "# 기존 클래스에 없는 멤버 변수 추가 할당을 True로 해줄 수 있다\n",
        "tank.cloaking = True\n",
        "if tank.cloaking == True:\n",
        "  print(\"{0}sms 현재 클로킹 상태\".format(tank.name))\n",
        "\n",
        "# 위 tank에만 cloaking이 할당된 것. 확장한 객체에만 적용된다"
      ],
      "metadata": {
        "id": "sJyTFwxY76yy"
      },
      "execution_count": null,
      "outputs": []
    },
    {
      "cell_type": "markdown",
      "source": [
        "8-4. 메소드"
      ],
      "metadata": {
        "id": "3SDEwCrb8fVm"
      }
    },
    {
      "cell_type": "code",
      "source": [
        "# 공격 유닛\n",
        "class AttackUnit: \n",
        "   def __init__(self, name, hp, damage): # AttackUnit 내 첫 함수\n",
        "    self.name = name # self는 자기 자신을 의미. self.뭐뭐를 통해 자기 자신에게 접근 가능\n",
        "    self.hp = hp\n",
        "    self.damage = damage\n",
        "  \n",
        "   def attack (self, location): # AttackUnit 내 두번째 함수, 클래스 내에서 메소드 앞에는 항상 self를 적음\n",
        "    print(\"{0} : {1} 방향으로 공격. [공격력 {2}]\"\\\n",
        "          .format(self.name, location, self.damage)) \n",
        "\n",
        "# self.name과 self.damage는 클래스 자기 자신에 있는 멤버 변수 값을 출력\n",
        "# location은 전달받은 값을 사용\n",
        "  \n",
        "   def damaged(self, damage):\n",
        "    print(\"{0} : {1} 데미지를 입었다\".format(self.name, damage))\n",
        "    self.hp -= damage # self.hp에서 damage 만큼 뺌\n",
        "    print(\"{0} : 현재 체력은 {1}\".format(self.name, self.hp))\n",
        "    if self.hp <=0:\n",
        "      print(\"{0} : 파괴\".format(self.name))"
      ],
      "metadata": {
        "id": "BcOKoEOz81DY"
      },
      "execution_count": null,
      "outputs": []
    },
    {
      "cell_type": "code",
      "source": [
        "firebat1 = AttackUnit(\"파이어뱃\", 50, 16)\n",
        "firebat1.attack(\"5시\") # self는 따로 입력해줄필요 없음\n",
        "firebat1.damaged(25)\n",
        "firebat1.damaged(25)"
      ],
      "metadata": {
        "id": "VrZDjogI_n3U"
      },
      "execution_count": null,
      "outputs": []
    },
    {
      "cell_type": "markdown",
      "source": [
        "8-5. 상속 \\\\\n",
        "클래스의 내용을 물려받아 또 다른 클래스를 만든다"
      ],
      "metadata": {
        "id": "_uSTjCu4_7t4"
      }
    },
    {
      "cell_type": "code",
      "source": [
        "# 일반 유닛 : 공격 유닛과 달리 damage 없음\n",
        "class Unit: # __init__함수를 통해 필요한 값들 정의\n",
        "  def __init__(self, name, hp): # 첫 인수는 self\n",
        "    self.name = name\n",
        "    self.hp = hp\n",
        "\n",
        "# 공격력이 없는 일반 유닛 클래스의 내용을 상속받아 Attack 유닛을 만든다\n",
        "# 유닛에 있는 멤버 변수와 메소드를 그대로 쓸 수 있다.\n",
        "# 클래스 괄호열고 상속받고 싶은 클래스를 지정\n",
        "\n",
        "class AttackUnit(Unit): # Unit의 클래스를 상속받아 AttackUnit을 만든다\n",
        "   def __init__(self, name, hp, damage): \n",
        "    # self.name, self.hp 또 정의할 필요 없음. 다만 Unit에서 만들어진 생성자를 호출해서 정의\n",
        "    Unit.__init__(self, name, hp)\n",
        "    self.damage = damage # 추가로 정의\n",
        "  \n",
        "   def attack (self, location): # AttackUnit 내 두번째 함수, 클래스 내에서 메소드 앞에는 항상 self를 적음\n",
        "    print(\"{0} : {1} 방향으로 공격. [공격력 {2}]\"\\\n",
        "          .format(self.name, location, self.damage)) \n",
        "\n",
        "firebat1 = AttackUnit(\"파이어뱃\", 50, 16)\n",
        "firebat1.attack(\"5시\")"
      ],
      "metadata": {
        "id": "teMEEZFmAPHn"
      },
      "execution_count": null,
      "outputs": []
    },
    {
      "cell_type": "markdown",
      "source": [
        "8-6. 다중상속 \\\\\n",
        "부모 클래스가 두 개 이상"
      ],
      "metadata": {
        "id": "3R_753nZmPL1"
      }
    },
    {
      "cell_type": "code",
      "source": [
        "# 드랍쉽: 공중 유닛, 수송 기능 but 공격 기능 x\n",
        "# 날 수 있는 기능을 가진 클래스\n",
        "class Flyable:\n",
        "  def __init__(self, flying_speed): \n",
        "    self.flying_speed = flying_speed\n",
        "  \n",
        "  def fly(self, name, location): # fly 함수\n",
        "    print(\"{0} : {1} 방향으로 날아갑니다. 속도 {2}\".format(name, location, self.flying_speed))\n",
        "\n",
        "# 공중 공격 유닛 클래스\n",
        "# Unit과  Flyable 둘로부터 다중 상속을 받을 것이다(콤마로 구분)\n",
        "class FlyableAttackUnit(AttackUnit, Flyable):\n",
        "  def __init__(self, name, hp, damage, flying_speed):\n",
        "    AttackUnit.__init__(self, name, hp, damage) # 멤버변수 초기화\n",
        "    Flyable.__init__(self, flying_speed)\n",
        "\n",
        "# 발키리 : 공중 공격 유닛, 한번에 14발 미사일 발사\n",
        "valkyrie = FlyableAttackUnit(\"발키리\", 200, 6, 5)\n",
        "valkyrie.fly(valkyrie.name, \"3시\") # Flyable의 fly 함수 호출\n",
        "# Flyable은 따로 name 변수 없어서 위에서 valkyrie.name 추가"
      ],
      "metadata": {
        "id": "MVHT8d1amoJq"
      },
      "execution_count": null,
      "outputs": []
    },
    {
      "cell_type": "markdown",
      "source": [
        "8-7. 메소드 오버라이딩 \\\\\n",
        "부모 클래스에서 정의한 메소드 말고 자식 클래스에서 정의한 메소드를 쓰고 싶을 때 메소드를 새롭게 정의해서 사용하는 것을 오버라이딩이라 한다."
      ],
      "metadata": {
        "id": "87OxyCsFo-J4"
      }
    },
    {
      "cell_type": "code",
      "source": [
        "class Unit: \n",
        "  def __init__(self, name, hp, speed): \n",
        "    self.name = name\n",
        "    self.hp = hp\n",
        "    self.speed = speed\n",
        "\n",
        "  def move(self, location):\n",
        "    print(\"지상 유닛 이동\")\n",
        "    print(\"{0} : {1} 방향으로 이동. 속도 {2}\".format(self.name, location, self.speed))\n",
        "\n",
        "# Unit에 speed 추가했으면 상속받는 애에서도 추가로 멤버변수 초기화 필요\n",
        "\n",
        "class AttackUnit(Unit):\n",
        "  def __init__(self, name, hp, speed, damage): \n",
        "    Unit.__init__(self, name, hp, speed)\n",
        "    self.damage = damage \n",
        "  \n",
        "  def attack (self, location):\n",
        "    print(\"{0} : {1} 방향으로 공격. [공격력 {2}]\"\\\n",
        "          .format(self.name, location, self.damage)) \n",
        "\n",
        "class FlyableAttackUnit(AttackUnit, Flyable):\n",
        "  def __init__(self, name, hp, damage, flying_speed):\n",
        "    AttackUnit.__init__(self, name, hp, 0, damage) # 공중 유닛은 flying_speed 있으므로 지상 스피드는 필요 없어서 0으로 지정\n",
        "    Flyable.__init__(self, flying_speed)\n",
        "\n",
        "# 벌처: 지상 유닛, 기동성 좋음\n",
        "vulture = AttackUnit(\"벌처\",80, 10, 20)\n",
        "# 배틀크루저: 공중 유닛, 체력 좋고 공격력 좋음\n",
        "battlecruiser = FlyableAttackUnit(\"배틀크루저\", 500, 25, 3)\n",
        "\n",
        "vulture.move(\"11시\")\n",
        "battlecruiser.fly(battlecruiser.name, \"9시\")"
      ],
      "metadata": {
        "id": "giNFUxndpZQB"
      },
      "execution_count": null,
      "outputs": []
    },
    {
      "cell_type": "code",
      "source": [
        "# 위 예시처럼 하면 지상크루인지 공중크루인지 일일이 알아야하고 이에 따라 move 또는 fly를 써야함\n",
        "# 번거로움을 막기 위해 메소드 오버라이딩을 실행: 똑같이 move 함수만 써서 실행할 수 있도록!\n",
        "\n",
        "class FlyableAttackUnit(AttackUnit, Flyable):\n",
        "  def __init__(self, name, hp, damage, flying_speed):\n",
        "    AttackUnit.__init__(self, name, hp, 0, damage) # 공중 유닛은 flying_speed 있으므로 지상 스피드는 필요 없어서 0으로 지정\n",
        "    Flyable.__init__(self, flying_speed)\n",
        "\n",
        "  def move(self, location):\n",
        "    print('공중 유닛 이동')\n",
        "    self.fly(self.name, location)\n",
        "\n",
        "battlecruiser.move(\"9시\") # move는 self.name 통해 이름 받으므로 location만 알려주면 된다"
      ],
      "metadata": {
        "id": "FcVmsyjAq7Rx"
      },
      "execution_count": null,
      "outputs": []
    },
    {
      "cell_type": "markdown",
      "source": [
        "8-8. pass \\\\\n",
        "아무것도 안하고 일단 넘어감감"
      ],
      "metadata": {
        "id": "OA1xfqnPsGLN"
      }
    },
    {
      "cell_type": "code",
      "source": [
        "# 건물을 만들자\n",
        "# class Building(Unit):\n",
        "#   def __init__ (self, name, hp, location):\n",
        "#     pass\n",
        "\n",
        "# 서플라이 디폿: 건물, 1개 건물당 8만큼의 유닛 생성 가능\n",
        "# supply_depot = Building(\"서플라이디폿\", 500, \"7시\")\n",
        "\n",
        "# 위를 실행하면 에러 안 나고 넘어감"
      ],
      "metadata": {
        "id": "D1VyhBP2sTKO"
      },
      "execution_count": null,
      "outputs": []
    },
    {
      "cell_type": "code",
      "source": [
        "def game_start():\n",
        "  print(\"새로운 게임 시작\")\n",
        "\n",
        "def game_over():\n",
        "  pass\n",
        "\n",
        "game_start()\n",
        "game_over()"
      ],
      "metadata": {
        "id": "LP7ye-wDs_XI"
      },
      "execution_count": null,
      "outputs": []
    },
    {
      "cell_type": "markdown",
      "source": [
        "8-9. super "
      ],
      "metadata": {
        "id": "gEzu2pl5tXnu"
      }
    },
    {
      "cell_type": "code",
      "source": [
        "class Building(Unit):\n",
        "   def __init__ (self, name, hp, location):\n",
        "     # Unit.__init__(self, name, hp, 0)\n",
        "     # super를 활용하면 위와 같은 내용을 다른 방법으로 쓸 수 있다\n",
        "     super().__init__(name, hp, 0) # super를 쓸 때는 self를 쓰지 않는다다\n",
        "     self.location = location"
      ],
      "metadata": {
        "id": "qgO3efr7tfKy"
      },
      "execution_count": null,
      "outputs": []
    },
    {
      "cell_type": "code",
      "source": [
        "# super는 다중상속에서 주의\n",
        "class Unit:\n",
        "  def __init__(self):\n",
        "    print(\"유닛 생성자\")\n",
        "\n",
        "class Flyable:\n",
        "  def __init__(self):\n",
        "    print(\"flyable 생성자\")\n",
        "\n",
        "class FlayableUnit(Unit, Flyable):\n",
        "  def __init__(self):\n",
        "    super().__init__()\n",
        "\n",
        "# 드랍쉽\n",
        "dropship = FlyableUnit()\n",
        "# 위를 실행하면 Unit 생성자는 super를 통해 상속받지만 Flyable은 호출이 안됨\n",
        "# 다중상속시 super를 쓰면 맨 처음 상속 받는 클래스에 대해서만 호출됨 \n",
        "\n",
        "class FlayableUnit(Unit, Flyable):\n",
        "  def __init__(self):\n",
        "    # super().__init__()\n",
        "    Unit.__init__(self)\n",
        "    Flyable.__init__(self)"
      ],
      "metadata": {
        "id": "THw6DsNCu4o_"
      },
      "execution_count": null,
      "outputs": []
    },
    {
      "cell_type": "code",
      "source": [
        "# isinstance(): 만들어진 객체가 어떤 클래스의 인스턴스인지 확인\n",
        "isinstance(vulture, AttackUnit)"
      ],
      "metadata": {
        "id": "dKQpX_4mv9Eh"
      },
      "execution_count": null,
      "outputs": []
    },
    {
      "cell_type": "markdown",
      "source": [
        "9-1. 예외처리 \\\\\n",
        "어떤 에러 발생시 그에 대해 처리해주는 것"
      ],
      "metadata": {
        "id": "UZjKhdXUywR4"
      }
    },
    {
      "cell_type": "code",
      "source": [
        "try:\n",
        "  print(\"나누기 전용 계산기입니다\")\n",
        "  num1 = int(input(\"첫 번째 숫자를 입력하세요\"))\n",
        "  num2 = int(input(\"두 번째 숫자를 입력하세요\"))\n",
        "  print(\"{0}/{1} = {2}\".format(num1, num2, int(num1/num2)))\n",
        "except ValueError:\n",
        "  print(\"잘못된 값을 입력하였습니다\")\n",
        "except ZeroDivisionError as err:\n",
        "  print(err) # 발생하는 에러 문장 그대로 출력\n",
        "except Exception as err:\n",
        "  print(\" 알 수 없는 에러가 발생했습니다\") # ValueError 또는 ZeroDivisionError 외 모든 에러 처리\n",
        "  print(err)\n",
        "  \n",
        "# num2에 숫자가 아니라 문자를 넣으면 에러 발생\n",
        "# 예외 처리를 하려면 try: 실행코드 except 에러명: 실행코드 입력"
      ],
      "metadata": {
        "id": "hCrtNrn_yb6c"
      },
      "execution_count": null,
      "outputs": []
    },
    {
      "cell_type": "markdown",
      "source": [
        "9-2. 에러 발생시키기 \\\\\n",
        "raise 에러명"
      ],
      "metadata": {
        "id": "5MBDT8YlzkY5"
      }
    },
    {
      "cell_type": "code",
      "source": [
        "try: \n",
        "  print(\"한자리 숫자 나누기 전용 계산기입니다\")\n",
        "  num1 = int(input(\"첫 번째 숫자 입력:\"))\n",
        "  num2 = int(input(\"두 번째 숫자 입력:\"))\n",
        "  if num1 >= 10 or num2 >= 10:\n",
        "    raise ValueError\n",
        "  print(\"{0}/{1} = {2}\".format(num1, num2, int(num1/num2)))\n",
        "except ValueError:\n",
        "  print(\"잘못된 값을 입력했습니다. 한자리 숫자만 입력하세요\")"
      ],
      "metadata": {
        "id": "3QTIHpH10tB3"
      },
      "execution_count": null,
      "outputs": []
    },
    {
      "cell_type": "markdown",
      "source": [
        "9-3. 사용자 정의 예외처리"
      ],
      "metadata": {
        "id": "bUhEgCO81NdC"
      }
    },
    {
      "cell_type": "code",
      "source": [
        "# 두자리 이상 들어왔을 때 에러를 직접 정의하여 발생시키자\n",
        "# Exception이라는 멤버를 상속받음\n",
        "class BigNumberError(Exception):\n",
        "  def __init__(self, msg):\n",
        "    # pass\n",
        "    self.msg = msg\n",
        "  \n",
        "  def __str__(self): # __str__함수를 정의\n",
        "    return self.msg\n",
        "\n",
        "try: \n",
        "  print(\"한자리 숫자 나누기 전용 계산기입니다\")\n",
        "  num1 = int(input(\"첫 번째 숫자 입력:\"))\n",
        "  num2 = int(input(\"두 번째 숫자 입력:\"))\n",
        "  if num1 >= 10 or num2 >= 10:\n",
        "    raise BigNumberError(\"입력값 : {0}, {1}\".format(num1, num2)) # 괄호 안에 msg 입력\n",
        "  print(\"{0}/{1} = {2}\".format(num1, num2, int(num1/num2)))\n",
        "except ValueError:\n",
        "  print(\"잘못된 값을 입력했습니다. 한자리 숫자만 입력하세요\")\n",
        "except BigNumberError as err:\n",
        "  print(\"잘못된 값을 입력했습니다. 한자리 숫자만 입력하세요\")\n",
        "  print(err)"
      ],
      "metadata": {
        "id": "1sRBPi2f1dDT"
      },
      "execution_count": null,
      "outputs": []
    },
    {
      "cell_type": "markdown",
      "source": [
        "9-4. Finally \\\\\n",
        "예외 처리 구문에서 정상적으로 수행이 되건 예외가 되건 상관없이 무조건 실행되는 구문 \\\\\n",
        "try 구문 마지막에 finally:으로 적는다."
      ],
      "metadata": {
        "id": "Pa7thkuV2qz3"
      }
    },
    {
      "cell_type": "code",
      "source": [
        "try: \n",
        "  print(\"한자리 숫자 나누기 전용 계산기입니다\")\n",
        "  num1 = int(input(\"첫 번째 숫자 입력:\"))\n",
        "  num2 = int(input(\"두 번째 숫자 입력:\"))\n",
        "  if num1 >= 10 or num2 >= 10:\n",
        "    raise BigNumberError(\"입력값 : {0}, {1}\".format(num1, num2)) # 괄호 안에 msg 입력\n",
        "  print(\"{0}/{1} = {2}\".format(num1, num2, int(num1/num2)))\n",
        "except ValueError:\n",
        "  print(\"잘못된 값을 입력했습니다. 한자리 숫자만 입력하세요\")\n",
        "except BigNumberError as err:\n",
        "  print(\"잘못된 값을 입력했습니다. 한자리 숫자만 입력하세요\")\n",
        "  print(err)\n",
        "\n",
        "finally: \n",
        "  print(\"계산기를 이용해주셔서 감사합니다다\")"
      ],
      "metadata": {
        "id": "LHYQ3Uyr23tN"
      },
      "execution_count": null,
      "outputs": []
    },
    {
      "cell_type": "markdown",
      "source": [
        "10-1. 모듈 \\\\\n",
        "필요한 것들끼리 부품처럼 잘 만들어진 파일이라고 생각 \\\\\n",
        "모듈은 그 모듈을 쓰려는 파일과 같은 경로에 있거나 파이썬 라이브러리가 모여있는 폴더에 있어야 사용 가능"
      ],
      "metadata": {
        "id": "KW-oUQoS3JAq"
      }
    },
    {
      "cell_type": "code",
      "source": [
        "# import 모듈명 \n",
        "# 모듈명.함수\n",
        "\n",
        "# import 모듈명 as 별명 \n",
        "# 별명.함수\n",
        "\n",
        "# from 모듈명 import * (*을 쓰는것은 해당 모듈의 모든걸 사용하겠다는 의미)\n",
        "# 함수 바로 사용 가능\n",
        "\n",
        "# from 모듈명 import 필요한 함수1, 필요한 함수2\n",
        "\n",
        "# from 모듈명 import 필요한 함수 as 별명"
      ],
      "metadata": {
        "id": "VYidMK1n46CL"
      },
      "execution_count": null,
      "outputs": []
    },
    {
      "cell_type": "markdown",
      "source": [
        "10-2. package \\\\\n",
        "모듈들을 모아놓은 집합. 하나의 디렉토리에 여러 모듈 파일을 모아놓은 것 "
      ],
      "metadata": {
        "id": "ax3t1oqn9oj-"
      }
    },
    {
      "cell_type": "code",
      "source": [
        "# 모듈위치 확인\n",
        "# import inspect\n",
        "# import 모듈명\n",
        "# inspect.getfile(모듈명)"
      ],
      "metadata": {
        "id": "qfdA1GHY9reD"
      },
      "execution_count": null,
      "outputs": []
    },
    {
      "cell_type": "code",
      "source": [
        "# 패키지 설치\n",
        "# pip install 패키지명\n",
        "# pip list: 설치된 패키지 확인\n",
        "# pip install --upgrade 패키지명: djqrmfpdlem\n",
        "# pip uninstall 패키지명: 패키지 삭제"
      ],
      "metadata": {
        "id": "h5fm1lw5CUHL"
      },
      "execution_count": null,
      "outputs": []
    }
  ]
}